{
 "cells": [
  {
   "cell_type": "code",
   "execution_count": null,
   "metadata": {},
   "outputs": [
    {
     "name": "stderr",
     "output_type": "stream",
     "text": [
      "2023-10-17 16:27:57.890759: I tensorflow/core/platform/cpu_feature_guard.cc:182] This TensorFlow binary is optimized to use available CPU instructions in performance-critical operations.\n",
      "To enable the following instructions: SSE4.1 SSE4.2 AVX AVX2 FMA, in other operations, rebuild TensorFlow with the appropriate compiler flags.\n",
      "/home/konrad/code/rsmi/RSMI-NE/examples/../rsmine/coarsegrainer/build_dataset.py:13: TqdmWarning: IProgress not found. Please update jupyter and ipywidgets. See https://ipywidgets.readthedocs.io/en/stable/user_install.html\n",
      "  from tqdm.autonotebook import tqdm\n"
     ]
    }
   ],
   "source": [
    "import os\n",
    "import sys\n",
    "import requests\n",
    "\n",
    "sys.path.append(os.pardir)\n",
    "import rsmine.coarsegrainer.build_dataset as ds\n",
    "import rsmine.coarsegrainer.cg_optimisers as cg_opt\n",
    "import rsmine.coarsegrainer.plotter as plotter"
   ]
  },
  {
   "cell_type": "markdown",
   "metadata": {},
   "source": [
    "# RSMI optimisation for the dimer model"
   ]
  },
  {
   "cell_type": "markdown",
   "metadata": {},
   "source": [
    "## Download sample dataset"
   ]
  },
  {
   "cell_type": "code",
   "execution_count": null,
   "metadata": {},
   "outputs": [
    {
     "name": "stdout",
     "output_type": "stream",
     "text": [
      "Existing dataset found.\n"
     ]
    }
   ],
   "source": [
    "url = 'https://polybox.ethz.ch/index.php/s/bUp9a5qZWuLGXMb/download'\n",
    "filename = 'configs_intdimer2d_square_L64_T15.000.npy'\n",
    "data_dir = os.path.join(os.pardir, 'data')\n",
    "\n",
    "if os.path.isfile(os.path.join(data_dir, filename)):\n",
    "    print('Existing dataset found.')\n",
    "else:\n",
    "    print('No existing dataset found.')\n",
    "    if not os.path.isdir(data_dir):\n",
    "        os.mkdir(data_dir)\n",
    "        print('Created the data directory.')\n",
    "    print('Downloading data...')\n",
    "    r = requests.get(url, allow_redirects=True)\n",
    "    open(os.path.join(data_dir, filename), 'wb').write(r.content)\n",
    "    print('Data downloaded into /coarsegrainer/data/.')"
   ]
  },
  {
   "cell_type": "markdown",
   "metadata": {},
   "source": [
    "## Enter system parameters"
   ]
  },
  {
   "cell_type": "code",
   "execution_count": null,
   "metadata": {},
   "outputs": [
    {
     "name": "stdout",
     "output_type": "stream",
     "text": [
      "Existing data found.\n",
      " Loading the data...\n",
      "Loading complete.\n",
      "{'model': 'intdimer2d', 'lattice_type': 'square', 'L': 64, 'T': 15.0, 'N_samples': 28800, 'dimension': 2}\n"
     ]
    }
   ],
   "source": [
    "data_params = {\n",
    "    'model': 'intdimer2d',\n",
    "    'lattice_type': 'square',\n",
    "    'L': 64,\n",
    "    'T': 15.000,\n",
    "    'N_samples': 28800, \n",
    "    'dimension': 2,\n",
    "}\n",
    "\n",
    "generator=ds.dataset(**data_params)\n",
    "\n",
    "print(data_params)"
   ]
  },
  {
   "cell_type": "markdown",
   "metadata": {},
   "source": [
    "## Enter optimisation parameters"
   ]
  },
  {
   "cell_type": "code",
   "execution_count": null,
   "metadata": {},
   "outputs": [
    {
     "name": "stdout",
     "output_type": "stream",
     "text": [
      "Preparing the RSMI dataset...\n",
      "RSMI dataset prepared.\n"
     ]
    }
   ],
   "source": [
    "CG_params = {'init_temperature': 0.75,\n",
    "    'min_temperature': 0.1,\n",
    "    'relaxation_rate': 0.0001, \n",
    "    'Nq': None,\n",
    "    'conv_activation': None,\n",
    "    'hidden_dim': 2,\n",
    "    'h_embed': True,\n",
    "    'use_probs': False,\n",
    "    'use_logits': True,\n",
    "    'nonlinearCG': None,\n",
    "}\n",
    "ll = CG_params['ll'] = (8,8)\n",
    "\n",
    "critic_params = {\n",
    "    'layers': 3, \n",
    "    'embed_dim': 8, \n",
    "    'hidden_dim': 32, \n",
    "    'activation': 'relu',\n",
    "    'use_dropout': True,\n",
    "    'dropout_rate': 0.2,\n",
    "}\n",
    "\n",
    "opt_params = {\n",
    "    \"batch_size\": 500, \n",
    "    \"iterations\": 100, \n",
    "    \"shuffle\": 100000,\n",
    "    \"learning_rate\": 9e-3 \n",
    "}\n",
    "\n",
    "index = (10, 10) # index of the visible patch to be coarse-grained\n",
    "buffer_size = 4\n",
    "env_size = 4\n",
    "\n",
    "V, E = generator.rsmi_data(index, ll, buffer_size=buffer_size, cap=ll[0]+2*(buffer_size+env_size))"
   ]
  },
  {
   "cell_type": "markdown",
   "metadata": {},
   "source": [
    "## Perform the optimisation and plot results"
   ]
  },
  {
   "cell_type": "code",
   "execution_count": null,
   "metadata": {
    "tags": []
   },
   "outputs": [
    {
     "name": "stderr",
     "output_type": "stream",
     "text": [
      "  0%|          | 0/5800 [00:00<?, ?it/s]2023-10-17 16:28:10.038354: I tensorflow/core/common_runtime/executor.cc:1197] [/device:CPU:0] (DEBUG INFO) Executor start aborting (this does not indicate an error and you can ignore this message): INVALID_ARGUMENT: You must feed a value for placeholder tensor 'Placeholder/_1' with dtype float and shape [28800,320]\n",
      "\t [[{{node Placeholder/_1}}]]\n",
      "2023-10-17 16:28:10.038614: I tensorflow/core/common_runtime/executor.cc:1197] [/device:CPU:0] (DEBUG INFO) Executor start aborting (this does not indicate an error and you can ignore this message): INVALID_ARGUMENT: You must feed a value for placeholder tensor 'Placeholder/_1' with dtype float and shape [28800,320]\n",
      "\t [[{{node Placeholder/_1}}]]\n"
     ]
    },
    {
     "name": "stdout",
     "output_type": "stream",
     "text": [
      "Len dat:  5800\n"
     ]
    },
    {
     "name": "stderr",
     "output_type": "stream",
     "text": [
      "Gumbel-softmax temperature 0.42, I=0.18: 100%|██████████| 5800/5800 [00:33<00:00, 172.58it/s]"
     ]
    },
    {
     "name": "stdout",
     "output_type": "stream",
     "text": [
      "Training complete.\n"
     ]
    },
    {
     "name": "stderr",
     "output_type": "stream",
     "text": [
      "\n"
     ]
    }
   ],
   "source": [
    "estimates, _, filters, _ = cg_opt.train_RSMI_optimiser(CG_params, critic_params, opt_params, data_params, \n",
    "                                                       E=E, V=V, use_GPU=True)"
   ]
  },
  {
   "cell_type": "code",
   "execution_count": null,
   "metadata": {},
   "outputs": [
    {
     "name": "stdout",
     "output_type": "stream",
     "text": [
      "RSMI estimate is  0.2010276855453795\n"
     ]
    },
    {
     "name": "stderr",
     "output_type": "stream",
     "text": [
      "findfont: Font family 'arial' not found.\n",
      "findfont: Font family 'arial' not found.\n",
      "findfont: Font family 'arial' not found.\n",
      "findfont: Font family 'arial' not found.\n",
      "findfont: Font family 'arial' not found.\n",
      "findfont: Font family 'arial' not found.\n",
      "findfont: Font family 'arial' not found.\n",
      "findfont: Font family ['arial'] not found. Falling back to DejaVu Sans.\n",
      "findfont: Font family 'arial' not found.\n",
      "findfont: Font family 'arial' not found.\n",
      "findfont: Font family 'arial' not found.\n",
      "findfont: Font family 'arial' not found.\n",
      "findfont: Font family 'arial' not found.\n",
      "findfont: Font family 'arial' not found.\n",
      "findfont: Font family 'arial' not found.\n",
      "findfont: Font family 'arial' not found.\n",
      "findfont: Font family 'arial' not found.\n",
      "findfont: Font family 'arial' not found.\n",
      "findfont: Font family 'arial' not found.\n",
      "findfont: Font family 'arial' not found.\n",
      "/home/konrad/code/rsmi/RSMI-NE/examples/../rsmine/coarsegrainer/plotter.py:274: UserWarning: Tight layout not applied. tight_layout cannot make axes width small enough to accommodate all axes decorations\n",
      "  fig.tight_layout()\n",
      "findfont: Font family 'arial' not found.\n",
      "findfont: Font family 'arial' not found.\n",
      "findfont: Font family 'arial' not found.\n",
      "findfont: Font family 'arial' not found.\n",
      "findfont: Font family 'arial' not found.\n",
      "findfont: Font family 'arial' not found.\n",
      "findfont: Font family 'arial' not found.\n",
      "findfont: Font family 'arial' not found.\n",
      "findfont: Font family 'arial' not found.\n",
      "findfont: Font family 'arial' not found.\n",
      "findfont: Font family 'arial' not found.\n",
      "findfont: Font family 'arial' not found.\n",
      "findfont: Font family 'arial' not found.\n",
      "findfont: Font family 'arial' not found.\n",
      "findfont: Font family 'arial' not found.\n",
      "findfont: Font family 'arial' not found.\n",
      "findfont: Font family 'arial' not found.\n",
      "findfont: Font family 'arial' not found.\n",
      "findfont: Font family 'arial' not found.\n",
      "findfont: Font family 'arial' not found.\n",
      "findfont: Font family 'arial' not found.\n",
      "findfont: Font family 'arial' not found.\n",
      "findfont: Font family 'arial' not found.\n"
     ]
    },
    {
     "name": "stdout",
     "output_type": "stream",
     "text": [
      "{'init_temperature': 0.75, 'min_temperature': 0.1, 'relaxation_rate': 0.0001, 'Nq': None, 'conv_activation': None, 'hidden_dim': 2, 'h_embed': True, 'use_probs': False, 'use_logits': True, 'nonlinearCG': None, 'll': (8, 8)}\n",
      "{'layers': 3, 'embed_dim': 8, 'hidden_dim': 32, 'activation': 'relu', 'use_dropout': True, 'dropout_rate': 0.2}\n",
      "{'batch_size': 500, 'iterations': 100, 'shuffle': 100000, 'learning_rate': 0.009}\n"
     ]
    },
    {
     "name": "stderr",
     "output_type": "stream",
     "text": [
      "findfont: Font family 'arial' not found.\n",
      "findfont: Font family 'arial' not found.\n",
      "findfont: Font family 'arial' not found.\n",
      "findfont: Font family 'arial' not found.\n",
      "findfont: Font family 'arial' not found.\n",
      "findfont: Font family 'arial' not found.\n",
      "findfont: Font family 'arial' not found.\n",
      "findfont: Font family 'arial' not found.\n",
      "findfont: Font family 'arial' not found.\n",
      "findfont: Font family 'arial' not found.\n",
      "findfont: Font family 'arial' not found.\n",
      "findfont: Font family 'arial' not found.\n",
      "findfont: Font family 'arial' not found.\n",
      "findfont: Font family 'arial' not found.\n",
      "findfont: Font family 'arial' not found.\n",
      "findfont: Font family 'arial' not found.\n",
      "findfont: Font family 'arial' not found.\n",
      "findfont: Font family 'arial' not found.\n",
      "findfont: Font family 'arial' not found.\n",
      "findfont: Font family 'arial' not found.\n",
      "findfont: Font family 'arial' not found.\n",
      "findfont: Font family 'arial' not found.\n",
      "findfont: Font family 'arial' not found.\n",
      "findfont: Font family 'arial' not found.\n",
      "findfont: Font family 'arial' not found.\n",
      "findfont: Font family 'arial' not found.\n",
      "findfont: Font family 'arial' not found.\n",
      "findfont: Font family 'arial' not found.\n",
      "findfont: Font family 'arial' not found.\n",
      "findfont: Font family 'arial' not found.\n",
      "findfont: Font family 'arial' not found.\n",
      "findfont: Font family 'arial' not found.\n",
      "findfont: Font family 'arial' not found.\n",
      "findfont: Font family 'arial' not found.\n",
      "findfont: Font family 'arial' not found.\n",
      "findfont: Font family 'arial' not found.\n",
      "findfont: Font family 'arial' not found.\n",
      "findfont: Font family 'arial' not found.\n",
      "findfont: Font family 'arial' not found.\n",
      "findfont: Font family 'arial' not found.\n",
      "findfont: Font family 'arial' not found.\n",
      "findfont: Font family 'arial' not found.\n",
      "findfont: Font family 'arial' not found.\n",
      "findfont: Font family 'arial' not found.\n",
      "findfont: Font family 'arial' not found.\n",
      "findfont: Font family 'arial' not found.\n",
      "findfont: Font family 'arial' not found.\n",
      "findfont: Font family 'arial' not found.\n",
      "findfont: Font family 'arial' not found.\n",
      "findfont: Font family 'arial' not found.\n",
      "findfont: Font family 'arial' not found.\n",
      "findfont: Font family 'arial' not found.\n",
      "findfont: Font family 'arial' not found.\n",
      "findfont: Font family 'arial' not found.\n",
      "findfont: Font family 'arial' not found.\n",
      "findfont: Font family 'arial' not found.\n",
      "findfont: Font family 'arial' not found.\n",
      "findfont: Font family 'arial' not found.\n",
      "findfont: Font family 'arial' not found.\n",
      "findfont: Font family 'arial' not found.\n",
      "findfont: Font family 'arial' not found.\n",
      "findfont: Font family 'arial' not found.\n"
     ]
    },
    {
     "data": {
      "image/png": "[encoded data removed]",
      "text/plain": [
       "<Figure size 640x480 with 202 Axes>"
      ]
     },
     "metadata": {},
     "output_type": "display_data"
    }
   ],
   "source": [
    "print('RSMI estimate is ', cg_opt.RSMI_estimate(estimates, ema_span=20))\n",
    "\n",
    "\"\"\"\n",
    "plotter.plot_fancy_rsmimax(estimates, filters, opt_params, CG_params, \n",
    "                            generator, mi_bound=r'$\\rm InfoNCE$', \n",
    "                            filter_lim=2.3, EMA_span=20, save=False, \n",
    "                            series_skip=opt_params['iterations']//4-1, \n",
    "                            interpolation='hanning', cmap='RdBu')\n",
    "\"\"\"\n",
    "\n",
    "plotter.plot_fancy_rsmimax(estimates, filters, opt_params, CG_params, \n",
    "                            generator)\n",
    "\n",
    "print(CG_params)\n",
    "print(critic_params)\n",
    "print(opt_params)"
   ]
  },
  {
   "cell_type": "code",
   "execution_count": null,
   "metadata": {},
   "outputs": [],
   "source": []
  }
 ],
 "metadata": {
  "interpreter": {
   "hash": "c7d6e61eb592417a5a85490875025b5ae0c79109f0daa26267333957fad9aa65"
  },
  "kernelspec": {
   "display_name": "Python 3.8.10 64-bit ('tensorflow_macos_venv': venv)",
   "name": "python3"
  },
  "language_info": {
   "codemirror_mode": {
    "name": "ipython",
    "version": 3
   },
   "file_extension": ".py",
   "mimetype": "text/x-python",
   "name": "python",
   "nbconvert_exporter": "python",
   "pygments_lexer": "ipython3",
   "version": "3.11.6"
  },
  "metadata": {
   "interpreter": {
    "hash": "704a21b3c9de2c1a39836076d3451fe5284f538f95803a3c94f3d8a4fe85552b"
   }
  }
 },
 "nbformat": 4,
 "nbformat_minor": 4
}
